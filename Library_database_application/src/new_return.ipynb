{
 "cells": [
  {
   "cell_type": "code",
   "execution_count": 1,
   "metadata": {
    "collapsed": true
   },
   "outputs": [],
   "source": [
    "import mysql.connector\n",
    "import datetime\n",
    "import pandas as pd"
   ]
  },
  {
   "cell_type": "code",
   "execution_count": 12,
   "outputs": [],
   "source": [
    "myconn = mysql.connector.connect(host=\"localhost\", user=\"root\", passwd=\"Ermahgerd.0406\", database=\"new\")\n",
    "cur = myconn.cursor()"
   ],
   "metadata": {
    "collapsed": false,
    "pycharm": {
     "name": "#%%\n"
    }
   }
  },
  {
   "cell_type": "code",
   "execution_count": 13,
   "outputs": [],
   "source": [
    "cur.execute('select Issue_id from borrows')\n",
    "all_iss=cur.fetchall()\n",
    "i=1\n",
    "msg=\"Please enter your Issue ID to return the book:\\n\"\n",
    "while i>0:\n",
    "    issue_id=input('{}\\n'.format(msg))\n",
    "    if (int(issue_id),) in all_iss:\n",
    "        i=0\n",
    "    else:\n",
    "        msg=\"Issue Id doesn't exist. please try again:\\n\"\n",
    "        i=1"
   ],
   "metadata": {
    "collapsed": false,
    "pycharm": {
     "name": "#%%\n"
    }
   }
  },
  {
   "cell_type": "code",
   "execution_count": 14,
   "outputs": [],
   "source": [
    "cur.execute(\"Select * from borrows where Issue_id={}\".format(issue_id))\n",
    "res=cur.fetchall()\n",
    "isbn, m_id, c_out_date=res[0][1],res[0][2],res[0][3]\n"
   ],
   "metadata": {
    "collapsed": false,
    "pycharm": {
     "name": "#%%\n"
    }
   }
  },
  {
   "cell_type": "code",
   "execution_count": 15,
   "outputs": [
    {
     "ename": "TypeError",
     "evalue": "can only concatenate str (not \"datetime.timedelta\") to str",
     "output_type": "error",
     "traceback": [
      "\u001B[1;31m---------------------------------------------------------------------------\u001B[0m",
      "\u001B[1;31mTypeError\u001B[0m                                 Traceback (most recent call last)",
      "\u001B[1;32m<ipython-input-15-3fa17cb6408c>\u001B[0m in \u001B[0;36m<module>\u001B[1;34m\u001B[0m\n\u001B[0;32m      2\u001B[0m \u001B[0mprf\u001B[0m\u001B[1;33m=\u001B[0m\u001B[0mint\u001B[0m\u001B[1;33m(\u001B[0m\u001B[0mcur\u001B[0m\u001B[1;33m.\u001B[0m\u001B[0mfetchall\u001B[0m\u001B[1;33m(\u001B[0m\u001B[1;33m)\u001B[0m\u001B[1;33m[\u001B[0m\u001B[1;36m0\u001B[0m\u001B[1;33m]\u001B[0m\u001B[1;33m[\u001B[0m\u001B[1;36m0\u001B[0m\u001B[1;33m]\u001B[0m\u001B[1;33m)\u001B[0m\u001B[1;33m\u001B[0m\u001B[1;33m\u001B[0m\u001B[0m\n\u001B[0;32m      3\u001B[0m \u001B[1;32mif\u001B[0m \u001B[0mprf\u001B[0m\u001B[1;33m==\u001B[0m\u001B[1;36m0\u001B[0m\u001B[1;33m:\u001B[0m\u001B[1;33m\u001B[0m\u001B[1;33m\u001B[0m\u001B[0m\n\u001B[1;32m----> 4\u001B[1;33m     \u001B[0mreturn_date\u001B[0m\u001B[1;33m=\u001B[0m\u001B[0mc_out_date\u001B[0m\u001B[1;33m+\u001B[0m\u001B[0mdatetime\u001B[0m\u001B[1;33m.\u001B[0m\u001B[0mtimedelta\u001B[0m\u001B[1;33m(\u001B[0m\u001B[0mdays\u001B[0m\u001B[1;33m=\u001B[0m\u001B[1;36m21\u001B[0m\u001B[1;33m)\u001B[0m\u001B[1;33m\u001B[0m\u001B[1;33m\u001B[0m\u001B[0m\n\u001B[0m\u001B[0;32m      5\u001B[0m \u001B[1;32melse\u001B[0m\u001B[1;33m:\u001B[0m\u001B[1;33m\u001B[0m\u001B[1;33m\u001B[0m\u001B[0m\n\u001B[0;32m      6\u001B[0m     \u001B[0mreturn_date\u001B[0m\u001B[1;33m=\u001B[0m\u001B[0mc_out_date\u001B[0m\u001B[1;33m+\u001B[0m\u001B[0mdatetime\u001B[0m\u001B[1;33m.\u001B[0m\u001B[0mtimedelta\u001B[0m\u001B[1;33m(\u001B[0m\u001B[0mdays\u001B[0m\u001B[1;33m=\u001B[0m\u001B[1;36m30\u001B[0m\u001B[1;33m*\u001B[0m\u001B[1;36m3\u001B[0m\u001B[1;33m)\u001B[0m\u001B[1;33m\u001B[0m\u001B[1;33m\u001B[0m\u001B[0m\n",
      "\u001B[1;31mTypeError\u001B[0m: can only concatenate str (not \"datetime.timedelta\") to str"
     ]
    }
   ],
   "source": [
    "cur.execute('select Prf_flag from members where M_id=\"{}\"'.format(int(m_id)))\n",
    "prf=int(cur.fetchall()[0][0])\n",
    "if prf==0:\n",
    "    return_date=c_out_date+datetime.timedelta(days=21)\n",
    "else:\n",
    "    return_date=c_out_date+datetime.timedelta(days=30*3)\n",
    "\n",
    "overdue=datetime.datetime.today().date()-return_date\n",
    "\n",
    "if overdue<datetime.timedelta(days=0):\n",
    "    overdue=datetime.timedelta(days=0)\n",
    "else:\n",
    "    print(\"Your book is overdue by {}.\\nPlease contact the Librarian for dues.\\n\".format(overdue))"
   ],
   "metadata": {
    "collapsed": false,
    "pycharm": {
     "name": "#%%\n"
    }
   }
  },
  {
   "cell_type": "code",
   "execution_count": 6,
   "outputs": [],
   "source": [
    "cur.execute('select Title from books where ISBN=\"{}\"'.format(isbn))\n",
    "title=cur.fetchall()[0][0]"
   ],
   "metadata": {
    "collapsed": false,
    "pycharm": {
     "name": "#%%\n"
    }
   }
  },
  {
   "cell_type": "code",
   "execution_count": 7,
   "outputs": [
    {
     "ename": "NameError",
     "evalue": "name 'overdue' is not defined",
     "output_type": "error",
     "traceback": [
      "\u001B[1;31m---------------------------------------------------------------------------\u001B[0m",
      "\u001B[1;31mNameError\u001B[0m                                 Traceback (most recent call last)",
      "\u001B[1;32m<ipython-input-7-f3fafe2aba79>\u001B[0m in \u001B[0;36m<module>\u001B[1;34m\u001B[0m\n\u001B[0;32m      1\u001B[0m \u001B[0mreturn_date\u001B[0m\u001B[1;33m=\u001B[0m\u001B[0mdatetime\u001B[0m\u001B[1;33m.\u001B[0m\u001B[0mdatetime\u001B[0m\u001B[1;33m.\u001B[0m\u001B[0mtoday\u001B[0m\u001B[1;33m(\u001B[0m\u001B[1;33m)\u001B[0m\u001B[1;33m.\u001B[0m\u001B[0mdate\u001B[0m\u001B[1;33m(\u001B[0m\u001B[1;33m)\u001B[0m\u001B[1;33m\u001B[0m\u001B[1;33m\u001B[0m\u001B[0m\n\u001B[1;32m----> 2\u001B[1;33m \u001B[0mprint\u001B[0m\u001B[1;33m(\u001B[0m\u001B[1;34m\"Your book has been returned.\\n\\n\\nYour receipt is:\\n\\nIssue ID: {}\\nBook: {}\\nCheck out date: {}\\nReturned date: {}\\nOverdue by: {}\\n\"\u001B[0m\u001B[1;33m.\u001B[0m\u001B[0mformat\u001B[0m\u001B[1;33m(\u001B[0m\u001B[0missue_id\u001B[0m\u001B[1;33m,\u001B[0m\u001B[0mtitle\u001B[0m\u001B[1;33m,\u001B[0m\u001B[0mc_out_date\u001B[0m\u001B[1;33m,\u001B[0m\u001B[0mreturn_date\u001B[0m\u001B[1;33m,\u001B[0m\u001B[0moverdue\u001B[0m\u001B[1;33m)\u001B[0m\u001B[1;33m)\u001B[0m\u001B[1;33m\u001B[0m\u001B[1;33m\u001B[0m\u001B[0m\n\u001B[0m\u001B[0;32m      3\u001B[0m \u001B[1;33m\u001B[0m\u001B[0m\n",
      "\u001B[1;31mNameError\u001B[0m: name 'overdue' is not defined"
     ]
    }
   ],
   "source": [
    "return_date=datetime.datetime.today().date()\n",
    "print(\"Your book has been returned.\\n\\n\\nYour receipt is:\\n\\nIssue ID: {}\\nBook: {}\\nCheck out date: {}\\nReturned date: {}\\nOverdue by: {}\\n\".format(issue_id,title,c_out_date,return_date,overdue))"
   ],
   "metadata": {
    "collapsed": false,
    "pycharm": {
     "name": "#%%\n"
    }
   }
  },
  {
   "cell_type": "code",
   "execution_count": 60,
   "outputs": [],
   "source": [
    "cur.execute(\"UPDATE borrows SET return_date='{}' where Issue_id={}\".format(return_date,int(issue_id)))\n",
    "myconn.commit()"
   ],
   "metadata": {
    "collapsed": false,
    "pycharm": {
     "name": "#%%\n"
    }
   }
  },
  {
   "cell_type": "code",
   "execution_count": 58,
   "outputs": [
    {
     "data": {
      "text/plain": "'13'"
     },
     "execution_count": 58,
     "metadata": {},
     "output_type": "execute_result"
    }
   ],
   "source": [],
   "metadata": {
    "collapsed": false,
    "pycharm": {
     "name": "#%%\n"
    }
   }
  },
  {
   "cell_type": "code",
   "execution_count": null,
   "outputs": [],
   "source": [],
   "metadata": {
    "collapsed": false,
    "pycharm": {
     "name": "#%%\n"
    }
   }
  }
 ],
 "metadata": {
  "kernelspec": {
   "name": "python3",
   "language": "python",
   "display_name": "Python 3"
  },
  "language_info": {
   "codemirror_mode": {
    "name": "ipython",
    "version": 2
   },
   "file_extension": ".py",
   "mimetype": "text/x-python",
   "name": "python",
   "nbconvert_exporter": "python",
   "pygments_lexer": "ipython2",
   "version": "2.7.6"
  }
 },
 "nbformat": 4,
 "nbformat_minor": 0
}