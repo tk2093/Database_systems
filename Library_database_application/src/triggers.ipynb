{
 "cells": [
  {
   "cell_type": "code",
   "execution_count": 1,
   "metadata": {
    "collapsed": true
   },
   "outputs": [],
   "source": [
    "import mysql.connector\n",
    "import datetime\n",
    "import pandas as pd"
   ]
  },
  {
   "cell_type": "code",
   "execution_count": 2,
   "outputs": [],
   "source": [
    "myconn = mysql.connector.connect(host=\"localhost\", user=\"root\", passwd=\"Ermahgerd.0406\", database=\"new\")\n",
    "cur = myconn.cursor()"
   ],
   "metadata": {
    "collapsed": false,
    "pycharm": {
     "name": "#%%\n"
    }
   }
  },
  {
   "cell_type": "code",
   "execution_count": 3,
   "outputs": [],
   "source": [
    "cur.execute(\"select * from members where DATEDIFF(Exp_date, curdate())<30\")\n",
    "all_exp=cur.fetchall()\n",
    "df_exp=pd.DataFrame(all_exp,columns=['M_id','SSN','Name','Mail_add','Camp_add','Ph_no','Prf','Prsn','Exp_date'])"
   ],
   "metadata": {
    "collapsed": false,
    "pycharm": {
     "name": "#%%\n"
    }
   }
  },
  {
   "cell_type": "code",
   "execution_count": 4,
   "outputs": [
    {
     "name": "stdout",
     "output_type": "stream",
     "text": [
      "These are the members who are about to expire:\n",
      "\n",
      "   M_id   Name    Exp_date\n",
      "0     1  Name1  2021-12-01\n",
      "1     2  Name2  2021-12-15\n"
     ]
    }
   ],
   "source": [
    "print(\"These are the members who are about to expire:\\n\\n{}\".format(df_exp[['M_id','Name','Exp_date']]))"
   ],
   "metadata": {
    "collapsed": false,
    "pycharm": {
     "name": "#%%\n"
    }
   }
  },
  {
   "cell_type": "code",
   "execution_count": 5,
   "outputs": [
    {
     "name": "stdout",
     "output_type": "stream",
     "text": [
      "Renewal notice has been sent to Name1 with member ID 1.\n",
      "\n",
      "Your membership expires on 2021-12-01. Please renew it as soon as possible.\n",
      "\n",
      "\n",
      "sent to: \n",
      "Name1\n",
      "246, street add, state, 123456\n",
      "\n",
      "\n",
      "\n",
      "Renewal notice has been sent to Name2 with member ID 2.\n",
      "\n",
      "Your membership expires on 2021-12-15. Please renew it as soon as possible.\n",
      "\n",
      "\n",
      "sent to: \n",
      "Name2\n",
      "584, street add, state, 123456\n",
      "\n",
      "\n",
      "\n"
     ]
    }
   ],
   "source": [
    "for each in df_exp.iterrows():\n",
    "    #print(each[:][1],\"\\n\\n\")\n",
    "    print(f\"Renewal notice has been sent to {each[:][1]['Name']} with member ID {each[:][1]['M_id']}.\\n\\nYour membership expires on {each[:][1]['Exp_date']}. Please renew it as soon as possible.\\n\\n\\nsent to: \\n{each[:][1]['Name']}\\n{each[:][1]['Camp_add']}\\n\\n\\n\")"
   ],
   "metadata": {
    "collapsed": false,
    "pycharm": {
     "name": "#%%\n"
    }
   }
  },
  {
   "cell_type": "code",
   "execution_count": 6,
   "outputs": [],
   "source": [
    "cur.execute(\"\"\"SELECT *\n",
    "               from\n",
    "                    (select b.Issue_id, bk.Title, b.M_id, m.Name, m.Camp_add, m.ph_no, b.Check_out_date, case when m.Prf_flag=0\n",
    "                                then DATEDIFF(curdate(),DATE_ADD(Check_out_date,interval 21 day))\n",
    "                                else DATEDIFF(curdate(),DATE_ADD(Check_out_date,interval 30*3 day)) end as Overdue,\n",
    "                            case when m.Prf_flag=0 then DATEDIFF(DATE_ADD(Check_out_date,interval 21 day), curdate())<1\n",
    "                            else DATEDIFF(DATE_ADD(Check_out_date,interval 30*3 day), curdate())<1 end as Exp\n",
    "                    from borrows b inner join  members m on m.M_id=b.M_id inner join books as bk on bk.ISBN=b.ISBN\n",
    "                    where Return_date is null) a\n",
    "                where a.Exp=1\"\"\")\n",
    "all_ove=cur.fetchall()\n",
    "df_ove=pd.DataFrame(all_ove,columns=['Issue_id','Title','M_id','Name','Camp_add','Ph_no','Check_out_date','Overdue','Exp'])"
   ],
   "metadata": {
    "collapsed": false,
    "pycharm": {
     "name": "#%%\n"
    }
   }
  },
  {
   "cell_type": "code",
   "execution_count": 7,
   "outputs": [
    {
     "name": "stdout",
     "output_type": "stream",
     "text": [
      "Message has been sent for Issue ID 85 to Name12 with member ID 12:\n",
      "\n",
      "\n",
      "Your book 'The Ultimate Hitchhiker's Guide: Five Complete Novels and One Story (Hitchhiker's Guide to the Galaxy  #1-5)' is overdue by 40 days\n",
      "Please return it as soon as possible.\n",
      "\n",
      "\n",
      "Sent to:\n",
      "Name12\n",
      "Ph: 9876543221.0\n",
      "564, street add, state, 123456\n",
      "\n",
      "\n",
      "\n",
      "Message has been sent for Issue ID 96 to Name7 with member ID 7:\n",
      "\n",
      "\n",
      "Your book 'The Hitchhiker's Guide to the Galaxy (Hitchhiker's Guide to the Galaxy  #1)' is overdue by 28 days\n",
      "Please return it as soon as possible.\n",
      "\n",
      "\n",
      "Sent to:\n",
      "Name7\n",
      "Ph: 9876543216.0\n",
      "234, street add, state, 123456\n",
      "\n",
      "\n",
      "\n",
      "Message has been sent for Issue ID 13 to Name13 with member ID 13:\n",
      "\n",
      "\n",
      "Your book 'The Lord of the Rings: Weapons and Warfare' is overdue by 17 days\n",
      "Please return it as soon as possible.\n",
      "\n",
      "\n",
      "Sent to:\n",
      "Name13\n",
      "Ph: 9876543222.0\n",
      "564, street add, state, 123456\n",
      "\n",
      "\n",
      "\n",
      "Message has been sent for Issue ID 49 to Name10 with member ID 10:\n",
      "\n",
      "\n",
      "Your book 'Changeling (Changeling  #1)' is overdue by 31 days\n",
      "Please return it as soon as possible.\n",
      "\n",
      "\n",
      "Sent to:\n",
      "Name10\n",
      "Ph: 9876543219.0\n",
      "354, street add, state, 123456\n",
      "\n",
      "\n",
      "\n",
      "Message has been sent for Issue ID 70 to Name10 with member ID 10:\n",
      "\n",
      "\n",
      "Your book 'Rising from the Plains' is overdue by 11 days\n",
      "Please return it as soon as possible.\n",
      "\n",
      "\n",
      "Sent to:\n",
      "Name10\n",
      "Ph: 9876543219.0\n",
      "354, street add, state, 123456\n",
      "\n",
      "\n",
      "\n",
      "Message has been sent for Issue ID 26 to Name10 with member ID 10:\n",
      "\n",
      "\n",
      "Your book 'What to Sell on ebay and Where to Get It: The Definitive Guide to Product Sourcing for eBay and Beyond' is overdue by 38 days\n",
      "Please return it as soon as possible.\n",
      "\n",
      "\n",
      "Sent to:\n",
      "Name10\n",
      "Ph: 9876543219.0\n",
      "354, street add, state, 123456\n",
      "\n",
      "\n",
      "\n",
      "Message has been sent for Issue ID 44 to Name10 with member ID 10:\n",
      "\n",
      "\n",
      "Your book 'Ruby Cookbook' is overdue by 27 days\n",
      "Please return it as soon as possible.\n",
      "\n",
      "\n",
      "Sent to:\n",
      "Name10\n",
      "Ph: 9876543219.0\n",
      "354, street add, state, 123456\n",
      "\n",
      "\n",
      "\n"
     ]
    }
   ],
   "source": [
    "for each in df_ove.iterrows():\n",
    "    #print(each[:][1]['Name'])\n",
    "    print(f\"Message has been sent for Issue ID {each[:][1]['Issue_id']} to {each[:][1]['Name']} with member ID {each[:][1]['M_id']}:\\n\\n\\nYour book '{each[:][1]['Title']}' is overdue by {each[:][1]['Overdue']} days\\nPlease return it as soon as possible.\\n\\n\\nSent to:\\n{each[:][1]['Name']}\\nPh: {each[:][1]['Ph_no']}\\n{each[:][1]['Camp_add']}\\n\\n\\n\")"
   ],
   "metadata": {
    "collapsed": false,
    "pycharm": {
     "name": "#%%\n"
    }
   }
  },
  {
   "cell_type": "code",
   "execution_count": null,
   "outputs": [],
   "source": [],
   "metadata": {
    "collapsed": false,
    "pycharm": {
     "name": "#%%\n"
    }
   }
  }
 ],
 "metadata": {
  "kernelspec": {
   "name": "python3",
   "language": "python",
   "display_name": "Python 3"
  },
  "language_info": {
   "codemirror_mode": {
    "name": "ipython",
    "version": 2
   },
   "file_extension": ".py",
   "mimetype": "text/x-python",
   "name": "python",
   "nbconvert_exporter": "python",
   "pygments_lexer": "ipython2",
   "version": "2.7.6"
  }
 },
 "nbformat": 4,
 "nbformat_minor": 0
}