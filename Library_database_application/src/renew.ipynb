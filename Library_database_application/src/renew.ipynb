{
 "cells": [
  {
   "cell_type": "code",
   "execution_count": 1,
   "metadata": {
    "collapsed": true
   },
   "outputs": [],
   "source": [
    "import mysql.connector\n",
    "import datetime\n",
    "import pandas as pd"
   ]
  },
  {
   "cell_type": "code",
   "execution_count": 2,
   "outputs": [],
   "source": [
    "myconn = mysql.connector.connect(host=\"localhost\", user=\"root\", passwd=\"Ermahgerd.0406\", database=\"new\")\n",
    "cur = myconn.cursor()"
   ],
   "metadata": {
    "collapsed": false,
    "pycharm": {
     "name": "#%%\n"
    }
   }
  },
  {
   "cell_type": "code",
   "execution_count": 3,
   "outputs": [],
   "source": [
    "cur.execute('select M_id from members')\n",
    "all_mem=cur.fetchall()\n",
    "i=1\n",
    "msg=\"Please enter memeber ID to renew: \\n\"\n",
    "while i>0:\n",
    "    m_id=input('{}\\n'.format(msg))\n",
    "    if (int(m_id),) in all_mem:\n",
    "        i=0\n",
    "    else:\n",
    "        msg=\"Member Id doesn't exist. please try again:\\n\"\n",
    "        i=1"
   ],
   "metadata": {
    "collapsed": false,
    "pycharm": {
     "name": "#%%\n"
    }
   }
  },
  {
   "cell_type": "code",
   "execution_count": 4,
   "outputs": [
    {
     "name": "stdout",
     "output_type": "stream",
     "text": [
      "Your membership has ben renewed till 2025-12-01.\n",
      "\n"
     ]
    }
   ],
   "source": [
    "cur.execute('select Exp_date from members where M_id={}'.format(int(m_id)))\n",
    "exp_date=cur.fetchall()[0][0]\n",
    "dec=input(\"Your membership ends on: {}\\n\\nWould you like to renew?\".format(exp_date)).lower().strip()\n",
    "if dec[0]=='y':\n",
    "    exp_daten=datetime.datetime.today().date()+datetime.timedelta(days=365*4)\n",
    "    cur.execute(\"UPDATE members SET Exp_date='{}' where M_id={}\".format(exp_daten,int(m_id)))\n",
    "    print(\"Your membership has ben renewed till {}.\\n\".format(exp_daten))\n",
    "myconn.commit()\n"
   ],
   "metadata": {
    "collapsed": false,
    "pycharm": {
     "name": "#%%\n"
    }
   }
  },
  {
   "cell_type": "code",
   "execution_count": 4,
   "outputs": [],
   "source": [],
   "metadata": {
    "collapsed": false,
    "pycharm": {
     "name": "#%%\n"
    }
   }
  },
  {
   "cell_type": "code",
   "execution_count": null,
   "outputs": [],
   "source": [],
   "metadata": {
    "collapsed": false,
    "pycharm": {
     "name": "#%%\n"
    }
   }
  }
 ],
 "metadata": {
  "kernelspec": {
   "name": "python3",
   "language": "python",
   "display_name": "Python 3"
  },
  "language_info": {
   "codemirror_mode": {
    "name": "ipython",
    "version": 2
   },
   "file_extension": ".py",
   "mimetype": "text/x-python",
   "name": "python",
   "nbconvert_exporter": "python",
   "pygments_lexer": "ipython2",
   "version": "2.7.6"
  }
 },
 "nbformat": 4,
 "nbformat_minor": 0
}