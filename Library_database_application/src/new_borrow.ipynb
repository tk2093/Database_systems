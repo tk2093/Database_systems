{
 "cells": [
  {
   "cell_type": "code",
   "execution_count": 1,
   "metadata": {
    "collapsed": true
   },
   "outputs": [],
   "source": [
    "import mysql.connector\n",
    "import datetime\n",
    "import pandas as pd"
   ]
  },
  {
   "cell_type": "code",
   "execution_count": 2,
   "outputs": [],
   "source": [
    "myconn = mysql.connector.connect(host=\"localhost\", user=\"root\", passwd=\"Ermahgerd.0406\", database=\"new\")\n",
    "cur = myconn.cursor()"
   ],
   "metadata": {
    "collapsed": false,
    "pycharm": {
     "name": "#%%\n"
    }
   }
  },
  {
   "cell_type": "code",
   "execution_count": 3,
   "outputs": [],
   "source": [
    "cur.execute('select M_id from members')\n",
    "all_mem=cur.fetchall()\n",
    "i=1\n",
    "msg=\"Please enter your member ID:\\n\"\n",
    "while i>0:\n",
    "    m_id=input('{}\\n'.format(msg))\n",
    "    if (int(m_id),) in all_mem:\n",
    "        i=0\n",
    "    else:\n",
    "        msg=\"Member Id doesn't exist. please try again:\\n\"\n",
    "        i=1\n",
    "title=input(\"Please type the name of the book you want to borrow:\\n\")\n",
    "cur.execute('select Title from books where Title like \"%{}%\"'.format(title))\n",
    "df_title=pd.DataFrame(cur.fetchall(),columns=[\"Title\"])\n",
    "title=input(\"What is the subject area of the book?\\n{}\".format(df_title))\n",
    "title=df_title['Title'].iloc[int(title)]\n",
    "cur.execute('select ISBN from books where Title=\"{}\"'.format(title))\n",
    "isbn=cur.fetchall()[0][0]\n",
    "cur.execute('select max(Issue_id) from borrows')\n",
    "issue_id=cur.fetchall()[0][0]+1"
   ],
   "metadata": {
    "collapsed": false,
    "pycharm": {
     "name": "#%%\n"
    }
   }
  },
  {
   "cell_type": "code",
   "execution_count": 4,
   "outputs": [],
   "source": [
    "c_out_date=datetime.datetime.today().date()\n",
    "cur.execute('select Prf_flag from members where M_id=\"{}\"'.format(int(m_id)))\n",
    "prf=int(cur.fetchall()[0][0])\n",
    "if prf==0:\n",
    "    return_date=c_out_date+datetime.timedelta(days=21)\n",
    "else:\n",
    "    return_date=c_out_date+datetime.timedelta(days=30*3)"
   ],
   "metadata": {
    "collapsed": false,
    "pycharm": {
     "name": "#%%\n"
    }
   }
  },
  {
   "cell_type": "code",
   "execution_count": 5,
   "outputs": [],
   "source": [
    "cur.execute(\"INSERT INTO borrows values (%s,%s,%s,%s,%s)\",(issue_id,isbn,m_id,c_out_date,None))\n",
    "myconn.commit()"
   ],
   "metadata": {
    "collapsed": false,
    "pycharm": {
     "name": "#%%\n"
    }
   }
  },
  {
   "cell_type": "code",
   "execution_count": 6,
   "outputs": [
    {
     "name": "stdout",
     "output_type": "stream",
     "text": [
      "Book issued to member ID 16.\n",
      "Issue ID is: 101\n",
      "Book name: Harry Potter and the Chamber of Secrets (Harry Potter  #2)\n",
      "Issue Date: 2021-11-19\n",
      "\n",
      "\n",
      "Please return the book by 2021-12-10\n"
     ]
    }
   ],
   "source": [
    "print(\"Book issued to member ID {}.\\nIssue ID is: {}\\nBook name: {}\\nIssue Date: {}\\n\\n\\nPlease return the book by {}\".format(m_id,issue_id, title,c_out_date,return_date))"
   ],
   "metadata": {
    "collapsed": false,
    "pycharm": {
     "name": "#%%\n"
    }
   }
  },
  {
   "cell_type": "code",
   "execution_count": null,
   "outputs": [],
   "source": [],
   "metadata": {
    "collapsed": false,
    "pycharm": {
     "name": "#%%\n"
    }
   }
  }
 ],
 "metadata": {
  "kernelspec": {
   "display_name": "Python 3",
   "language": "python",
   "name": "python3"
  },
  "language_info": {
   "codemirror_mode": {
    "name": "ipython",
    "version": 2
   },
   "file_extension": ".py",
   "mimetype": "text/x-python",
   "name": "python",
   "nbconvert_exporter": "python",
   "pygments_lexer": "ipython2",
   "version": "2.7.6"
  }
 },
 "nbformat": 4,
 "nbformat_minor": 0
}