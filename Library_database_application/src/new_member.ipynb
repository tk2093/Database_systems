{
 "cells": [
  {
   "cell_type": "code",
   "execution_count": 1,
   "metadata": {
    "collapsed": true
   },
   "outputs": [],
   "source": [
    "import mysql.connector\n",
    "import datetime"
   ]
  },
  {
   "cell_type": "code",
   "execution_count": 2,
   "outputs": [],
   "source": [
    "myconn = mysql.connector.connect(host=\"localhost\", user=\"root\", passwd=\"Ermahgerd.0406\", database=\"new\")\n",
    "cur = myconn.cursor()\n"
   ],
   "metadata": {
    "collapsed": false,
    "pycharm": {
     "name": "#%%\n"
    }
   }
  },
  {
   "cell_type": "code",
   "execution_count": 3,
   "outputs": [],
   "source": [
    "cur.execute('select max(M_id) from members')\n",
    "m_id = cur.fetchall()[0][0]\n",
    "m_id+=1"
   ],
   "metadata": {
    "collapsed": false,
    "pycharm": {
     "name": "#%%\n"
    }
   }
  },
  {
   "cell_type": "code",
   "execution_count": 4,
   "outputs": [],
   "source": [
    "cur.execute('select SSN from members')\n",
    "all_ssn=cur.fetchall()"
   ],
   "metadata": {
    "collapsed": false,
    "pycharm": {
     "name": "#%%\n"
    }
   }
  },
  {
   "cell_type": "code",
   "execution_count": 5,
   "outputs": [],
   "source": [
    "i=1\n",
    "j=1\n",
    "msg=\"This is a form to enter new member.\\nPlease enter member SSN:\"\n",
    "while i>0:\n",
    "    ssn=input('{}\\n'.format(msg))\n",
    "    if len(ssn)==9:\n",
    "        if (ssn,) in all_ssn:\n",
    "            msg=\"SSN already exist. Please enter a new SSN:\"\n",
    "            i=1\n",
    "        else:\n",
    "            i=0\n",
    "    else:\n",
    "        msg='SSN length does not match.\\nPlease try again:'\n",
    "name=input(\"Enter member full name:\\n\")\n",
    "camp_add=input(\"Enter member campus address:\\n\")\n",
    "mail_add=input(\"Enter member mailing address:\\n\")\n",
    "msg='Enter member phone number:'\n",
    "while j>0:\n",
    "    ph_no=input(\"{}\".format(msg))\n",
    "    if len(ph_no)==10:\n",
    "        j=0\n",
    "    else:\n",
    "        msg=\"Phone number length doesn't match. Please try again\"\n",
    "prof=input('Is the member a Professor?').lower().strip()\n",
    "if prof[0]=='y':\n",
    "    prof_flag=1\n",
    "    prsn_flag=0\n",
    "else:\n",
    "    prof_flag=0\n",
    "    prsn_flag=1\n",
    "exp_date=datetime.datetime.today().date()+datetime.timedelta(days=365*4)"
   ],
   "metadata": {
    "collapsed": false,
    "pycharm": {
     "name": "#%%\n"
    }
   }
  },
  {
   "cell_type": "code",
   "execution_count": 6,
   "outputs": [],
   "source": [
    "cur.execute(\"INSERT INTO members values (%s,%s,%s,%s,%s,%s,%s,%s,%s)\",(m_id,ssn,name,mail_add,camp_add,ph_no,prof_flag,prsn_flag,exp_date))\n",
    "myconn.commit()"
   ],
   "metadata": {
    "collapsed": false,
    "pycharm": {
     "name": "#%%\n"
    }
   }
  },
  {
   "cell_type": "code",
   "execution_count": 7,
   "outputs": [],
   "source": [
    "myconn.close()"
   ],
   "metadata": {
    "collapsed": false,
    "pycharm": {
     "name": "#%%\n"
    }
   }
  },
  {
   "cell_type": "code",
   "execution_count": 8,
   "outputs": [
    {
     "name": "stdout",
     "output_type": "stream",
     "text": [
      "Record Inserted.\n",
      "Member details are as follows:\n",
      "ID: 16\n",
      "Name: \n",
      "Expiration date: 2025-12-01\n",
      "\n"
     ]
    }
   ],
   "source": [
    "print('Record Inserted.\\nMember details are as follows:\\nID: {}\\nName: {}\\nExpiration date: {}\\n'.format(m_id,name,exp_date))"
   ],
   "metadata": {
    "collapsed": false,
    "pycharm": {
     "name": "#%%\n"
    }
   }
  },
  {
   "cell_type": "code",
   "execution_count": null,
   "outputs": [],
   "source": [],
   "metadata": {
    "collapsed": false,
    "pycharm": {
     "name": "#%%\n"
    }
   }
  }
 ],
 "metadata": {
  "kernelspec": {
   "display_name": "Python 3",
   "language": "python",
   "name": "python3"
  },
  "language_info": {
   "codemirror_mode": {
    "name": "ipython",
    "version": 2
   },
   "file_extension": ".py",
   "mimetype": "text/x-python",
   "name": "python",
   "nbconvert_exporter": "python",
   "pygments_lexer": "ipython2",
   "version": "2.7.6"
  }
 },
 "nbformat": 4,
 "nbformat_minor": 0
}