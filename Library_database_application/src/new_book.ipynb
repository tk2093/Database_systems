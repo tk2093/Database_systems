{
 "cells": [
  {
   "cell_type": "code",
   "execution_count": 1,
   "metadata": {
    "collapsed": true
   },
   "outputs": [],
   "source": [
    "import mysql.connector\n",
    "\n",
    "import pandas as pd"
   ]
  },
  {
   "cell_type": "code",
   "execution_count": 2,
   "outputs": [],
   "source": [
    "\n",
    "myconn = mysql.connector.connect(host=\"localhost\", user=\"root\", passwd=\"Ermahgerd.0406\", database=\"new\")\n",
    "cur = myconn.cursor()"
   ],
   "metadata": {
    "collapsed": false,
    "pycharm": {
     "name": "#%%\n"
    }
   }
  },
  {
   "cell_type": "code",
   "execution_count": 3,
   "outputs": [],
   "source": [
    "cur.execute('select ISBN from books')\n",
    "all_isbn=cur.fetchall()\n",
    "cur.execute('select distinct(sub_area) from books')\n",
    "all_sub=cur.fetchall()"
   ],
   "metadata": {
    "collapsed": false,
    "pycharm": {
     "name": "#%%\n"
    }
   }
  },
  {
   "cell_type": "code",
   "execution_count": 6,
   "outputs": [
    {
     "ename": "ValueError",
     "evalue": "invalid literal for int() with base 10: ''",
     "output_type": "error",
     "traceback": [
      "\u001B[1;31m---------------------------------------------------------------------------\u001B[0m",
      "\u001B[1;31mValueError\u001B[0m                                Traceback (most recent call last)",
      "\u001B[1;32m<ipython-input-6-ebfd5eda04ae>\u001B[0m in \u001B[0;36m<module>\u001B[1;34m\u001B[0m\n\u001B[0;32m     33\u001B[0m \u001B[1;32mwhile\u001B[0m \u001B[0mi\u001B[0m\u001B[1;33m>\u001B[0m\u001B[1;36m0\u001B[0m\u001B[1;33m:\u001B[0m\u001B[1;33m\u001B[0m\u001B[1;33m\u001B[0m\u001B[0m\n\u001B[0;32m     34\u001B[0m     \u001B[0mstaff_id\u001B[0m\u001B[1;33m=\u001B[0m\u001B[0minput\u001B[0m\u001B[1;33m(\u001B[0m\u001B[1;34m'{}\\n'\u001B[0m\u001B[1;33m.\u001B[0m\u001B[0mformat\u001B[0m\u001B[1;33m(\u001B[0m\u001B[0mmsg\u001B[0m\u001B[1;33m)\u001B[0m\u001B[1;33m)\u001B[0m\u001B[1;33m\u001B[0m\u001B[1;33m\u001B[0m\u001B[0m\n\u001B[1;32m---> 35\u001B[1;33m     \u001B[1;32mif\u001B[0m \u001B[1;33m(\u001B[0m\u001B[0mint\u001B[0m\u001B[1;33m(\u001B[0m\u001B[0mstaff_id\u001B[0m\u001B[1;33m)\u001B[0m\u001B[1;33m,\u001B[0m\u001B[1;33m)\u001B[0m \u001B[1;32min\u001B[0m \u001B[0mall_staff\u001B[0m\u001B[1;33m:\u001B[0m\u001B[1;33m\u001B[0m\u001B[1;33m\u001B[0m\u001B[0m\n\u001B[0m\u001B[0;32m     36\u001B[0m         \u001B[0mi\u001B[0m\u001B[1;33m=\u001B[0m\u001B[1;36m0\u001B[0m\u001B[1;33m\u001B[0m\u001B[1;33m\u001B[0m\u001B[0m\n\u001B[0;32m     37\u001B[0m     \u001B[1;32melse\u001B[0m\u001B[1;33m:\u001B[0m\u001B[1;33m\u001B[0m\u001B[1;33m\u001B[0m\u001B[0m\n",
      "\u001B[1;31mValueError\u001B[0m: invalid literal for int() with base 10: ''"
     ]
    }
   ],
   "source": [
    "i=1\n",
    "msg=\"This is a form to enter new book.\\nPlease enter book ISBN:\"\n",
    "while i>0:\n",
    "    isbn=input('{}\\n'.format(msg))\n",
    "    if len(isbn)==13:\n",
    "        if (isbn,) in all_isbn:\n",
    "            msg=\"Book already exist. Please enter a new ISBN:\"\n",
    "            i=1\n",
    "        else:\n",
    "            i=0\n",
    "    else:\n",
    "        msg='ISBN length does not match.\\nPlease try again:'\n",
    "title=input(\"Name of the book:\\n\")\n",
    "author=input(\"Author of the book:\\n\")\n",
    "descr=input(\"Provide description of the book, if any:\\n\")\n",
    "df_sub=pd.DataFrame(all_sub,columns=['Subject Area'])\n",
    "sub_area=input(\"What is the subject area of the book?\\n{}\".format(df_sub))\n",
    "sub_area=df_sub['Subject Area'].iloc[int(sub_area)]\n",
    "location=input(\"Specify location of the book in the library, if exist:\\n\")\n",
    "acq_flag=0\n",
    "acq=input('Is the book acquired by the Library?').lower().strip()\n",
    "if acq[0]=='y':\n",
    "    acq_flag=1\n",
    "lend_flag=1\n",
    "lend=input('Can it be lent to the members?').lower().strip()\n",
    "if lend[0]=='n':\n",
    "    lend_flag=0\n",
    "\n",
    "cur.execute('select Staff_id from staff')\n",
    "all_staff=cur.fetchall()\n",
    "i=1\n",
    "msg=\"Please enter your staff ID:\"\n",
    "while i>0:\n",
    "    staff_id=input('{}\\n'.format(msg))\n",
    "    if (int(staff_id),) in all_staff:\n",
    "        i=0\n",
    "    else:\n",
    "        msg=\"Staff Id doesn't exist. please try again:\"\n",
    "        i=1"
   ],
   "metadata": {
    "collapsed": false,
    "pycharm": {
     "name": "#%%\n"
    }
   }
  },
  {
   "cell_type": "code",
   "execution_count": 7,
   "outputs": [
    {
     "ename": "DatabaseError",
     "evalue": "1366 (HY000): Incorrect integer value: '' for column 'Location' at row 1",
     "output_type": "error",
     "traceback": [
      "\u001B[1;31m---------------------------------------------------------------------------\u001B[0m",
      "\u001B[1;31mMySQLInterfaceError\u001B[0m                       Traceback (most recent call last)",
      "\u001B[1;32mC:\\Anaconda3\\lib\\site-packages\\mysql\\connector\\connection_cext.py\u001B[0m in \u001B[0;36mcmd_query\u001B[1;34m(self, query, raw, buffered, raw_as_string)\u001B[0m\n\u001B[0;32m    515\u001B[0m                                \u001B[0mraw_as_string\u001B[0m\u001B[1;33m=\u001B[0m\u001B[0mraw_as_string\u001B[0m\u001B[1;33m,\u001B[0m\u001B[1;33m\u001B[0m\u001B[1;33m\u001B[0m\u001B[0m\n\u001B[1;32m--> 516\u001B[1;33m                                query_attrs=self._query_attrs)\n\u001B[0m\u001B[0;32m    517\u001B[0m         \u001B[1;32mexcept\u001B[0m \u001B[0mMySQLInterfaceError\u001B[0m \u001B[1;32mas\u001B[0m \u001B[0mexc\u001B[0m\u001B[1;33m:\u001B[0m\u001B[1;33m\u001B[0m\u001B[1;33m\u001B[0m\u001B[0m\n",
      "\u001B[1;31mMySQLInterfaceError\u001B[0m: Incorrect integer value: '' for column 'Location' at row 1",
      "\nDuring handling of the above exception, another exception occurred:\n",
      "\u001B[1;31mDatabaseError\u001B[0m                             Traceback (most recent call last)",
      "\u001B[1;32m<ipython-input-7-223e803bd873>\u001B[0m in \u001B[0;36m<module>\u001B[1;34m\u001B[0m\n\u001B[1;32m----> 1\u001B[1;33m \u001B[0mcur\u001B[0m\u001B[1;33m.\u001B[0m\u001B[0mexecute\u001B[0m\u001B[1;33m(\u001B[0m\u001B[1;34m\"INSERT INTO books values (%s,%s,%s,%s,%s,%s,%s,%s,%s)\"\u001B[0m\u001B[1;33m,\u001B[0m\u001B[1;33m(\u001B[0m\u001B[0misbn\u001B[0m\u001B[1;33m,\u001B[0m\u001B[0mtitle\u001B[0m\u001B[1;33m,\u001B[0m\u001B[0mauthor\u001B[0m\u001B[1;33m,\u001B[0m\u001B[0mdescr\u001B[0m\u001B[1;33m,\u001B[0m\u001B[0msub_area\u001B[0m\u001B[1;33m,\u001B[0m\u001B[0mlocation\u001B[0m\u001B[1;33m,\u001B[0m\u001B[0macq_flag\u001B[0m\u001B[1;33m,\u001B[0m\u001B[0mlend_flag\u001B[0m\u001B[1;33m,\u001B[0m\u001B[0mstaff_id\u001B[0m\u001B[1;33m)\u001B[0m\u001B[1;33m)\u001B[0m\u001B[1;33m\u001B[0m\u001B[1;33m\u001B[0m\u001B[0m\n\u001B[0m\u001B[0;32m      2\u001B[0m \u001B[0mmyconn\u001B[0m\u001B[1;33m.\u001B[0m\u001B[0mcommit\u001B[0m\u001B[1;33m(\u001B[0m\u001B[1;33m)\u001B[0m\u001B[1;33m\u001B[0m\u001B[1;33m\u001B[0m\u001B[0m\n\u001B[0;32m      3\u001B[0m \u001B[1;33m\u001B[0m\u001B[0m\n",
      "\u001B[1;32mC:\\Anaconda3\\lib\\site-packages\\mysql\\connector\\cursor_cext.py\u001B[0m in \u001B[0;36mexecute\u001B[1;34m(self, operation, params, multi)\u001B[0m\n\u001B[0;32m    269\u001B[0m             result = self._cnx.cmd_query(stmt, raw=self._raw,\n\u001B[0;32m    270\u001B[0m                                          \u001B[0mbuffered\u001B[0m\u001B[1;33m=\u001B[0m\u001B[0mself\u001B[0m\u001B[1;33m.\u001B[0m\u001B[0m_buffered\u001B[0m\u001B[1;33m,\u001B[0m\u001B[1;33m\u001B[0m\u001B[1;33m\u001B[0m\u001B[0m\n\u001B[1;32m--> 271\u001B[1;33m                                          raw_as_string=self._raw_as_string)\n\u001B[0m\u001B[0;32m    272\u001B[0m         \u001B[1;32mexcept\u001B[0m \u001B[0mMySQLInterfaceError\u001B[0m \u001B[1;32mas\u001B[0m \u001B[0mexc\u001B[0m\u001B[1;33m:\u001B[0m\u001B[1;33m\u001B[0m\u001B[1;33m\u001B[0m\u001B[0m\n\u001B[0;32m    273\u001B[0m             raise errors.get_mysql_exception(msg=exc.msg, errno=exc.errno,\n",
      "\u001B[1;32mC:\\Anaconda3\\lib\\site-packages\\mysql\\connector\\connection_cext.py\u001B[0m in \u001B[0;36mcmd_query\u001B[1;34m(self, query, raw, buffered, raw_as_string)\u001B[0m\n\u001B[0;32m    517\u001B[0m         \u001B[1;32mexcept\u001B[0m \u001B[0mMySQLInterfaceError\u001B[0m \u001B[1;32mas\u001B[0m \u001B[0mexc\u001B[0m\u001B[1;33m:\u001B[0m\u001B[1;33m\u001B[0m\u001B[1;33m\u001B[0m\u001B[0m\n\u001B[0;32m    518\u001B[0m             raise errors.get_mysql_exception(exc.errno, msg=exc.msg,\n\u001B[1;32m--> 519\u001B[1;33m                                              sqlstate=exc.sqlstate)\n\u001B[0m\u001B[0;32m    520\u001B[0m         \u001B[1;32mexcept\u001B[0m \u001B[0mAttributeError\u001B[0m\u001B[1;33m:\u001B[0m\u001B[1;33m\u001B[0m\u001B[1;33m\u001B[0m\u001B[0m\n\u001B[0;32m    521\u001B[0m             \u001B[1;32mif\u001B[0m \u001B[0mself\u001B[0m\u001B[1;33m.\u001B[0m\u001B[0m_unix_socket\u001B[0m\u001B[1;33m:\u001B[0m\u001B[1;33m\u001B[0m\u001B[1;33m\u001B[0m\u001B[0m\n",
      "\u001B[1;31mDatabaseError\u001B[0m: 1366 (HY000): Incorrect integer value: '' for column 'Location' at row 1"
     ]
    }
   ],
   "source": [
    "cur.execute(\"INSERT INTO books values (%s,%s,%s,%s,%s,%s,%s,%s,%s)\",(isbn,title,author,descr,sub_area,location,acq_flag,lend_flag,staff_id))\n",
    "myconn.commit()"
   ],
   "metadata": {
    "collapsed": false,
    "pycharm": {
     "name": "#%%\n"
    }
   }
  },
  {
   "cell_type": "code",
   "execution_count": 8,
   "outputs": [
    {
     "name": "stdout",
     "output_type": "stream",
     "text": [
      "New record inserted by staff ID . Details are as follow:\n",
      "\n",
      "ISBN: 1234567890125\n",
      "Title: my\n",
      "Author: me\n",
      "Subject Area: non-fiction\n",
      "Description: k\n",
      "\n",
      "\n"
     ]
    }
   ],
   "source": [
    "print(f'New record inserted by staff ID {staff_id}. Details are as follow:\\n\\nISBN: {isbn}\\nTitle: {title}\\nAuthor: {author}\\nSubject Area: {sub_area}\\nDescription: {descr}\\n\\n')"
   ],
   "metadata": {
    "collapsed": false,
    "pycharm": {
     "name": "#%%\n"
    }
   }
  },
  {
   "cell_type": "code",
   "execution_count": null,
   "outputs": [],
   "source": [],
   "metadata": {
    "collapsed": false,
    "pycharm": {
     "name": "#%%\n"
    }
   }
  }
 ],
 "metadata": {
  "kernelspec": {
   "display_name": "Python 3",
   "language": "python",
   "name": "python3"
  },
  "language_info": {
   "codemirror_mode": {
    "name": "ipython",
    "version": 2
   },
   "file_extension": ".py",
   "mimetype": "text/x-python",
   "name": "python",
   "nbconvert_exporter": "python",
   "pygments_lexer": "ipython2",
   "version": "2.7.6"
  }
 },
 "nbformat": 4,
 "nbformat_minor": 0
}