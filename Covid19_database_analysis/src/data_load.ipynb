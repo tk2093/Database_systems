{
 "cells": [
  {
   "cell_type": "code",
   "execution_count": 1,
   "metadata": {},
   "outputs": [],
   "source": [
    "import csv\n",
    "import pandas as pd\n",
    "import numpy as np\n",
    "from sqlalchemy import create_engine\n",
    "import pymysql"
   ]
  },
  {
   "cell_type": "markdown",
   "metadata": {},
   "source": [
    "Create engine to connect to the database"
   ]
  },
  {
   "cell_type": "code",
   "execution_count": 2,
   "metadata": {},
   "outputs": [],
   "source": [
    "engine = create_engine(\"mysql+pymysql://{user}:{pw}@{host}/{db}\"\n",
    "                       .format(host='localhost', db='new', user='root', pw='Ermahgerd.0406'))"
   ]
  },
  {
   "cell_type": "markdown",
   "metadata": {},
   "source": [
    "Read the csv file, and load into a dataframe"
   ]
  },
  {
   "cell_type": "code",
   "execution_count": null,
   "metadata": {},
   "outputs": [],
   "source": [
    "reader = csv.reader(open(r\"T:\\files\\DS\\CSE5330\\Project1_files\\US_state.csv\",\"r\"))\n",
    "lines=[]\n",
    "for line in reader:\n",
    "    lines.append(line)"
   ]
  },
  {
   "cell_type": "markdown",
   "metadata": {},
   "source": [
    "Edit dataframe to so that it can be loaded on to the database"
   ]
  },
  {
   "cell_type": "code",
   "execution_count": 4,
   "metadata": {},
   "outputs": [],
   "source": [
    "df_state=pd.DataFrame(lines)\n",
    "df_state.columns=['State_id','State','Abbreviation',\n",
    "                  'YearOfStatehood','Capital',\n",
    "                  'Capital_Since','LandArea',\n",
    "                  'IsPopulousCity','MunicipalPopulation',\n",
    "                  'MetroPopulation']\n",
    "df_state=df_state[1:]\n",
    "df_state['MunicipalPopulation']=df_state['MunicipalPopulation'].str.replace(',','')\n",
    "df_state['MetroPopulation']=df_state['MetroPopulation'].str.replace(',','')\n",
    "df_state[['YearOfStatehood',\n",
    "          'Capital_Since',\n",
    "          'LandArea',\n",
    "          'MunicipalPopulation',\n",
    "          'MetroPopulation']]=df_state[['YearOfStatehood',\n",
    "                                        'Capital_Since',\n",
    "                                        'LandArea',\n",
    "                                        'MunicipalPopulation',\n",
    "                                        'MetroPopulation']].apply(pd.to_numeric)"
   ]
  },
  {
   "cell_type": "markdown",
   "metadata": {},
   "source": [
    "load the data onto the database by specifying the table"
   ]
  },
  {
   "cell_type": "code",
   "execution_count": 5,
   "metadata": {},
   "outputs": [],
   "source": [
    "df_state.to_sql('state', engine, index=False, if_exists='append')"
   ]
  },
  {
   "cell_type": "markdown",
   "metadata": {},
   "source": [
    "Doing the same for each csv and table"
   ]
  },
  {
   "cell_type": "code",
   "execution_count": 6,
   "metadata": {},
   "outputs": [],
   "source": [
    "reader = csv.reader(open(r\"T:\\files\\DS\\CSE5330\\Project1_files\\Us_County.csv\",\"r\"))\n",
    "lines=[]\n",
    "for line in reader:\n",
    "    lines.append(line)"
   ]
  },
  {
   "cell_type": "code",
   "execution_count": 7,
   "metadata": {},
   "outputs": [],
   "source": [
    "df_county=pd.DataFrame(lines)\n",
    "df_county.columns=['State','County','Population','LATITUDE','LONGITUDE']\n",
    "df_county=df_county[1:]"
   ]
  },
  {
   "cell_type": "code",
   "execution_count": 8,
   "metadata": {},
   "outputs": [],
   "source": [
    "df_county.to_sql('county', engine, index=False, if_exists='append')"
   ]
  },
  {
   "cell_type": "code",
   "execution_count": 9,
   "metadata": {},
   "outputs": [],
   "source": [
    "reader = csv.reader(open(r\"T:\\files\\DS\\CSE5330\\Project1_files\\US_Confirmed_Cases.csv\",\"r\"))\n",
    "lines=[]\n",
    "for line in reader:\n",
    "    lines.append(line)"
   ]
  },
  {
   "cell_type": "code",
   "execution_count": 10,
   "metadata": {},
   "outputs": [],
   "source": [
    "df_cases=pd.DataFrame(lines)\n",
    "df_cases.columns=['State','County','Test_Date','Positive_Count']\n",
    "df_cases=df_cases[1:]\n",
    "df_cases['Test_Date']=pd.to_datetime(df_cases['Test_Date'])"
   ]
  },
  {
   "cell_type": "code",
   "execution_count": 11,
   "metadata": {},
   "outputs": [],
   "source": [
    "df_cases.to_sql('confirmed_cases', engine, index=False, if_exists='append')"
   ]
  },
  {
   "cell_type": "code",
   "execution_count": 12,
   "metadata": {},
   "outputs": [],
   "source": [
    "reader = csv.reader(open(r\"T:\\files\\DS\\CSE5330\\Project1_files\\Us_Deaths.csv\",\"r\"))\n",
    "lines=[]\n",
    "for line in reader:\n",
    "    lines.append(line)"
   ]
  },
  {
   "cell_type": "code",
   "execution_count": 13,
   "metadata": {},
   "outputs": [],
   "source": [
    "df_deaths=pd.DataFrame(lines)\n",
    "df_deaths.columns=['State','County','Report_Date','Death_Count']\n",
    "df_deaths=df_deaths[1:]\n",
    "df_deaths['Report_Date']=pd.to_datetime(df_deaths['Report_Date'])"
   ]
  },
  {
   "cell_type": "code",
   "execution_count": 14,
   "metadata": {},
   "outputs": [],
   "source": [
    "df_deaths.to_sql('deaths', engine, index=False, if_exists='append')"
   ]
  },
  {
   "cell_type": "code",
   "execution_count": 15,
   "metadata": {},
   "outputs": [],
   "source": [
    "reader = csv.reader(open(r\"T:\\files\\DS\\CSE5330\\Project1_files\\US_Vaccination.csv\",\"r\"))\n",
    "lines=[]\n",
    "for line in reader:\n",
    "    lines.append(line)"
   ]
  },
  {
   "cell_type": "code",
   "execution_count": 16,
   "metadata": {},
   "outputs": [],
   "source": [
    "df_vac=pd.DataFrame(lines)\n",
    "df_vac.columns=['State','Total_Distributed','Total_Administered','Distributed_per_100k','Administered_per_100k','People_W1_Doses','People_W1_Doses_100k','People_W2_Doses','People_W2_Doses_100k']\n",
    "df_vac=df_vac[1:]"
   ]
  },
  {
   "cell_type": "code",
   "execution_count": 17,
   "metadata": {},
   "outputs": [],
   "source": [
    "df_vac.to_sql('vaccinations', engine, index=False, if_exists='append')"
   ]
  }
 ],
 "metadata": {
  "kernelspec": {
   "display_name": "Python 3",
   "language": "python",
   "name": "python3"
  },
  "language_info": {
   "codemirror_mode": {
    "name": "ipython",
    "version": 3
   },
   "file_extension": ".py",
   "mimetype": "text/x-python",
   "name": "python",
   "nbconvert_exporter": "python",
   "pygments_lexer": "ipython3",
   "version": "3.7.4"
  }
 },
 "nbformat": 4,
 "nbformat_minor": 2
}
